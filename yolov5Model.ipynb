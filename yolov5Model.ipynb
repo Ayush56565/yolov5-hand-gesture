{
  "nbformat": 4,
  "nbformat_minor": 0,
  "metadata": {
    "colab": {
      "provenance": [],
      "gpuType": "T4",
      "mount_file_id": "163G_PKyFVGOSfNbwqUqZeHjEJEykYOYH",
      "authorship_tag": "ABX9TyMbwuKfiI3mW9XNm7VahfRM",
      "include_colab_link": true
    },
    "kernelspec": {
      "name": "python3",
      "display_name": "Python 3"
    },
    "language_info": {
      "name": "python"
    },
    "accelerator": "GPU"
  },
  "cells": [
    {
      "cell_type": "markdown",
      "metadata": {
        "id": "view-in-github",
        "colab_type": "text"
      },
      "source": [
        "<a href=\"https://colab.research.google.com/github/Ayush56565/yolov5-hand-gesture/blob/main/yolov5Model.ipynb\" target=\"_parent\"><img src=\"https://colab.research.google.com/assets/colab-badge.svg\" alt=\"Open In Colab\"/></a>"
      ]
    },
    {
      "cell_type": "code",
      "execution_count": null,
      "metadata": {
        "colab": {
          "base_uri": "https://localhost:8080/"
        },
        "id": "rrRAosiZsMj1",
        "outputId": "de6c1fed-052b-4133-c21b-6b6952148f58"
      },
      "outputs": [
        {
          "output_type": "stream",
          "name": "stdout",
          "text": [
            "Cloning into 'yolov5'...\n",
            "remote: Enumerating objects: 16003, done.\u001b[K\n",
            "remote: Counting objects: 100% (36/36), done.\u001b[K\n",
            "remote: Compressing objects: 100% (23/23), done.\u001b[K\n",
            "remote: Total 16003 (delta 21), reused 20 (delta 13), pack-reused 15967\u001b[K\n",
            "Receiving objects: 100% (16003/16003), 14.60 MiB | 24.99 MiB/s, done.\n",
            "Resolving deltas: 100% (10987/10987), done.\n",
            "/content/yolov5\n",
            "Collecting gitpython>=3.1.30 (from -r requirements.txt (line 5))\n",
            "  Downloading GitPython-3.1.37-py3-none-any.whl (190 kB)\n",
            "\u001b[2K     \u001b[90m━━━━━━━━━━━━━━━━━━━━━━━━━━━━━━━━━━━━━━━\u001b[0m \u001b[32m190.0/190.0 kB\u001b[0m \u001b[31m5.1 MB/s\u001b[0m eta \u001b[36m0:00:00\u001b[0m\n",
            "\u001b[?25hRequirement already satisfied: matplotlib>=3.3 in /usr/local/lib/python3.10/dist-packages (from -r requirements.txt (line 6)) (3.7.1)\n",
            "Requirement already satisfied: numpy>=1.22.2 in /usr/local/lib/python3.10/dist-packages (from -r requirements.txt (line 7)) (1.23.5)\n",
            "Requirement already satisfied: opencv-python>=4.1.1 in /usr/local/lib/python3.10/dist-packages (from -r requirements.txt (line 8)) (4.8.0.76)\n",
            "Requirement already satisfied: Pillow>=7.1.2 in /usr/local/lib/python3.10/dist-packages (from -r requirements.txt (line 9)) (9.4.0)\n",
            "Requirement already satisfied: psutil in /usr/local/lib/python3.10/dist-packages (from -r requirements.txt (line 10)) (5.9.5)\n",
            "Requirement already satisfied: PyYAML>=5.3.1 in /usr/local/lib/python3.10/dist-packages (from -r requirements.txt (line 11)) (6.0.1)\n",
            "Requirement already satisfied: requests>=2.23.0 in /usr/local/lib/python3.10/dist-packages (from -r requirements.txt (line 12)) (2.31.0)\n",
            "Requirement already satisfied: scipy>=1.4.1 in /usr/local/lib/python3.10/dist-packages (from -r requirements.txt (line 13)) (1.11.3)\n",
            "Collecting thop>=0.1.1 (from -r requirements.txt (line 14))\n",
            "  Downloading thop-0.1.1.post2209072238-py3-none-any.whl (15 kB)\n",
            "Requirement already satisfied: torch>=1.8.0 in /usr/local/lib/python3.10/dist-packages (from -r requirements.txt (line 15)) (2.0.1+cu118)\n",
            "Requirement already satisfied: torchvision>=0.9.0 in /usr/local/lib/python3.10/dist-packages (from -r requirements.txt (line 16)) (0.15.2+cu118)\n",
            "Requirement already satisfied: tqdm>=4.64.0 in /usr/local/lib/python3.10/dist-packages (from -r requirements.txt (line 17)) (4.66.1)\n",
            "Collecting ultralytics>=8.0.147 (from -r requirements.txt (line 18))\n",
            "  Downloading ultralytics-8.0.194-py3-none-any.whl (617 kB)\n",
            "\u001b[2K     \u001b[90m━━━━━━━━━━━━━━━━━━━━━━━━━━━━━━━━━━━━━━\u001b[0m \u001b[32m617.4/617.4 kB\u001b[0m \u001b[31m12.7 MB/s\u001b[0m eta \u001b[36m0:00:00\u001b[0m\n",
            "\u001b[?25hRequirement already satisfied: pandas>=1.1.4 in /usr/local/lib/python3.10/dist-packages (from -r requirements.txt (line 27)) (1.5.3)\n",
            "Requirement already satisfied: seaborn>=0.11.0 in /usr/local/lib/python3.10/dist-packages (from -r requirements.txt (line 28)) (0.12.2)\n",
            "Requirement already satisfied: setuptools>=65.5.1 in /usr/local/lib/python3.10/dist-packages (from -r requirements.txt (line 42)) (67.7.2)\n",
            "Collecting gitdb<5,>=4.0.1 (from gitpython>=3.1.30->-r requirements.txt (line 5))\n",
            "  Downloading gitdb-4.0.10-py3-none-any.whl (62 kB)\n",
            "\u001b[2K     \u001b[90m━━━━━━━━━━━━━━━━━━━━━━━━━━━━━━━━━━━━━━━━\u001b[0m \u001b[32m62.7/62.7 kB\u001b[0m \u001b[31m6.4 MB/s\u001b[0m eta \u001b[36m0:00:00\u001b[0m\n",
            "\u001b[?25hRequirement already satisfied: contourpy>=1.0.1 in /usr/local/lib/python3.10/dist-packages (from matplotlib>=3.3->-r requirements.txt (line 6)) (1.1.1)\n",
            "Requirement already satisfied: cycler>=0.10 in /usr/local/lib/python3.10/dist-packages (from matplotlib>=3.3->-r requirements.txt (line 6)) (0.12.0)\n",
            "Requirement already satisfied: fonttools>=4.22.0 in /usr/local/lib/python3.10/dist-packages (from matplotlib>=3.3->-r requirements.txt (line 6)) (4.43.0)\n",
            "Requirement already satisfied: kiwisolver>=1.0.1 in /usr/local/lib/python3.10/dist-packages (from matplotlib>=3.3->-r requirements.txt (line 6)) (1.4.5)\n",
            "Requirement already satisfied: packaging>=20.0 in /usr/local/lib/python3.10/dist-packages (from matplotlib>=3.3->-r requirements.txt (line 6)) (23.2)\n",
            "Requirement already satisfied: pyparsing>=2.3.1 in /usr/local/lib/python3.10/dist-packages (from matplotlib>=3.3->-r requirements.txt (line 6)) (3.1.1)\n",
            "Requirement already satisfied: python-dateutil>=2.7 in /usr/local/lib/python3.10/dist-packages (from matplotlib>=3.3->-r requirements.txt (line 6)) (2.8.2)\n",
            "Requirement already satisfied: charset-normalizer<4,>=2 in /usr/local/lib/python3.10/dist-packages (from requests>=2.23.0->-r requirements.txt (line 12)) (3.3.0)\n",
            "Requirement already satisfied: idna<4,>=2.5 in /usr/local/lib/python3.10/dist-packages (from requests>=2.23.0->-r requirements.txt (line 12)) (3.4)\n",
            "Requirement already satisfied: urllib3<3,>=1.21.1 in /usr/local/lib/python3.10/dist-packages (from requests>=2.23.0->-r requirements.txt (line 12)) (2.0.6)\n",
            "Requirement already satisfied: certifi>=2017.4.17 in /usr/local/lib/python3.10/dist-packages (from requests>=2.23.0->-r requirements.txt (line 12)) (2023.7.22)\n",
            "Requirement already satisfied: filelock in /usr/local/lib/python3.10/dist-packages (from torch>=1.8.0->-r requirements.txt (line 15)) (3.12.4)\n",
            "Requirement already satisfied: typing-extensions in /usr/local/lib/python3.10/dist-packages (from torch>=1.8.0->-r requirements.txt (line 15)) (4.5.0)\n",
            "Requirement already satisfied: sympy in /usr/local/lib/python3.10/dist-packages (from torch>=1.8.0->-r requirements.txt (line 15)) (1.12)\n",
            "Requirement already satisfied: networkx in /usr/local/lib/python3.10/dist-packages (from torch>=1.8.0->-r requirements.txt (line 15)) (3.1)\n",
            "Requirement already satisfied: jinja2 in /usr/local/lib/python3.10/dist-packages (from torch>=1.8.0->-r requirements.txt (line 15)) (3.1.2)\n",
            "Requirement already satisfied: triton==2.0.0 in /usr/local/lib/python3.10/dist-packages (from torch>=1.8.0->-r requirements.txt (line 15)) (2.0.0)\n",
            "Requirement already satisfied: cmake in /usr/local/lib/python3.10/dist-packages (from triton==2.0.0->torch>=1.8.0->-r requirements.txt (line 15)) (3.27.6)\n",
            "Requirement already satisfied: lit in /usr/local/lib/python3.10/dist-packages (from triton==2.0.0->torch>=1.8.0->-r requirements.txt (line 15)) (17.0.2)\n",
            "Requirement already satisfied: py-cpuinfo in /usr/local/lib/python3.10/dist-packages (from ultralytics>=8.0.147->-r requirements.txt (line 18)) (9.0.0)\n",
            "Requirement already satisfied: pytz>=2020.1 in /usr/local/lib/python3.10/dist-packages (from pandas>=1.1.4->-r requirements.txt (line 27)) (2023.3.post1)\n",
            "Collecting smmap<6,>=3.0.1 (from gitdb<5,>=4.0.1->gitpython>=3.1.30->-r requirements.txt (line 5))\n",
            "  Downloading smmap-5.0.1-py3-none-any.whl (24 kB)\n",
            "Requirement already satisfied: six>=1.5 in /usr/local/lib/python3.10/dist-packages (from python-dateutil>=2.7->matplotlib>=3.3->-r requirements.txt (line 6)) (1.16.0)\n",
            "Requirement already satisfied: MarkupSafe>=2.0 in /usr/local/lib/python3.10/dist-packages (from jinja2->torch>=1.8.0->-r requirements.txt (line 15)) (2.1.3)\n",
            "Requirement already satisfied: mpmath>=0.19 in /usr/local/lib/python3.10/dist-packages (from sympy->torch>=1.8.0->-r requirements.txt (line 15)) (1.3.0)\n",
            "Installing collected packages: smmap, gitdb, gitpython, thop, ultralytics\n",
            "Successfully installed gitdb-4.0.10 gitpython-3.1.37 smmap-5.0.1 thop-0.1.1.post2209072238 ultralytics-8.0.194\n"
          ]
        }
      ],
      "source": [
        "!git clone https://github.com/ultralytics/yolov5  # clone\n",
        "%cd yolov5\n",
        "!pip install -r requirements.txt"
      ]
    },
    {
      "cell_type": "code",
      "source": [
        "%cd yolov5"
      ],
      "metadata": {
        "colab": {
          "base_uri": "https://localhost:8080/"
        },
        "id": "168XyrorK2Vv",
        "outputId": "832e936c-98d6-4809-f655-b98781c6e078"
      },
      "execution_count": null,
      "outputs": [
        {
          "output_type": "stream",
          "name": "stdout",
          "text": [
            "[Errno 2] No such file or directory: 'yolov5'\n",
            "/content/yolov5\n"
          ]
        }
      ]
    },
    {
      "cell_type": "code",
      "source": [
        "import torch\n",
        "\n",
        "from IPython.display import Image, clear_output  # to display images\n",
        "# from utils.google_utils import gdrive_download  # to download models/datasets\n",
        "\n",
        "# clear_output()\n",
        "print('Setup complete. Using torch %s %s' % (torch.__version__, torch.cuda.get_device_properties(0) if torch.cuda.is_available() else 'CPU'))"
      ],
      "metadata": {
        "colab": {
          "base_uri": "https://localhost:8080/"
        },
        "id": "lJ6S8a-ZuVu0",
        "outputId": "fc720ffb-53d9-4b9f-ea6b-905960917401"
      },
      "execution_count": null,
      "outputs": [
        {
          "output_type": "stream",
          "name": "stdout",
          "text": [
            "Setup complete. Using torch 2.0.1+cu118 _CudaDeviceProperties(name='Tesla T4', major=7, minor=5, total_memory=15101MB, multi_processor_count=40)\n"
          ]
        }
      ]
    },
    {
      "cell_type": "code",
      "source": [
        "model = torch.hub.load('ultralytics/yolov5', 'yolov5s')"
      ],
      "metadata": {
        "colab": {
          "base_uri": "https://localhost:8080/"
        },
        "id": "oM-mseSPurPU",
        "outputId": "02bf84f3-4930-4f39-93bd-15628bac6334"
      },
      "execution_count": null,
      "outputs": [
        {
          "output_type": "stream",
          "name": "stderr",
          "text": [
            "/usr/local/lib/python3.10/dist-packages/torch/hub.py:286: UserWarning: You are about to download and run code from an untrusted repository. In a future release, this won't be allowed. To add the repository to your trusted list, change the command to {calling_fn}(..., trust_repo=False) and a command prompt will appear asking for an explicit confirmation of trust, or load(..., trust_repo=True), which will assume that the prompt is to be answered with 'yes'. You can also use load(..., trust_repo='check') which will only prompt for confirmation if the repo is not already trusted. This will eventually be the default behaviour\n",
            "  warnings.warn(\n",
            "Downloading: \"https://github.com/ultralytics/yolov5/zipball/master\" to /root/.cache/torch/hub/master.zip\n",
            "YOLOv5 🚀 2023-10-7 Python-3.10.12 torch-2.0.1+cu118 CUDA:0 (Tesla T4, 15102MiB)\n",
            "\n",
            "Downloading https://github.com/ultralytics/yolov5/releases/download/v7.0/yolov5s.pt to yolov5s.pt...\n",
            "100%|██████████| 14.1M/14.1M [00:00<00:00, 21.8MB/s]\n",
            "\n",
            "Fusing layers... \n",
            "YOLOv5s summary: 213 layers, 7225885 parameters, 0 gradients\n",
            "Adding AutoShape... \n"
          ]
        }
      ]
    },
    {
      "cell_type": "code",
      "source": [
        "import cv2\n",
        "import matplotlib.pyplot as plt\n"
      ],
      "metadata": {
        "id": "aUS4KwQgxCeq"
      },
      "execution_count": null,
      "outputs": []
    },
    {
      "cell_type": "code",
      "source": [
        "!unzip /content/data.zip -d /content/data"
      ],
      "metadata": {
        "id": "Mq5K-8nN_LN0"
      },
      "execution_count": null,
      "outputs": []
    },
    {
      "cell_type": "markdown",
      "source": [],
      "metadata": {
        "id": "_HOb2hVdD45s"
      }
    },
    {
      "cell_type": "code",
      "source": [
        "!cd /content/yolov5 && python train.py --img 320 --batch 16 --epochs 50 --data /content/yolov5/dataset.yaml --weights yolov5s.pt --workers 2"
      ],
      "metadata": {
        "colab": {
          "base_uri": "https://localhost:8080/"
        },
        "id": "BApcbCcu_-LO",
        "outputId": "fb9cf5fc-fa9d-4d97-9b86-dcd910adefae"
      },
      "execution_count": 14,
      "outputs": [
        {
          "output_type": "stream",
          "name": "stdout",
          "text": [
            "\u001b[34m\u001b[1mtrain: \u001b[0mweights=yolov5s.pt, cfg=, data=/content/yolov5/dataset.yaml, hyp=data/hyps/hyp.scratch-low.yaml, epochs=50, batch_size=16, imgsz=320, rect=False, resume=False, nosave=False, noval=False, noautoanchor=False, noplots=False, evolve=None, bucket=, cache=None, image_weights=False, device=, multi_scale=False, single_cls=False, optimizer=SGD, sync_bn=False, workers=2, project=runs/train, name=exp, exist_ok=False, quad=False, cos_lr=False, label_smoothing=0.0, patience=100, freeze=[0], save_period=-1, seed=0, local_rank=-1, entity=None, upload_dataset=False, bbox_interval=-1, artifact_alias=latest\n",
            "\u001b[34m\u001b[1mgithub: \u001b[0mup to date with https://github.com/ultralytics/yolov5 ✅\n",
            "YOLOv5 🚀 v7.0-226-gdd9e338 Python-3.10.12 torch-2.0.1+cu118 CUDA:0 (Tesla T4, 15102MiB)\n",
            "\n",
            "\u001b[34m\u001b[1mhyperparameters: \u001b[0mlr0=0.01, lrf=0.01, momentum=0.937, weight_decay=0.0005, warmup_epochs=3.0, warmup_momentum=0.8, warmup_bias_lr=0.1, box=0.05, cls=0.5, cls_pw=1.0, obj=1.0, obj_pw=1.0, iou_t=0.2, anchor_t=4.0, fl_gamma=0.0, hsv_h=0.015, hsv_s=0.7, hsv_v=0.4, degrees=0.0, translate=0.1, scale=0.5, shear=0.0, perspective=0.0, flipud=0.0, fliplr=0.5, mosaic=1.0, mixup=0.0, copy_paste=0.0\n",
            "\u001b[34m\u001b[1mComet: \u001b[0mrun 'pip install comet_ml' to automatically track and visualize YOLOv5 🚀 runs in Comet\n",
            "\u001b[34m\u001b[1mTensorBoard: \u001b[0mStart with 'tensorboard --logdir runs/train', view at http://localhost:6006/\n",
            "Downloading https://ultralytics.com/assets/Arial.ttf to /root/.config/Ultralytics/Arial.ttf...\n",
            "100% 755k/755k [00:00<00:00, 43.4MB/s]\n",
            "Overriding model.yaml nc=80 with nc=12\n",
            "\n",
            "                 from  n    params  module                                  arguments                     \n",
            "  0                -1  1      3520  models.common.Conv                      [3, 32, 6, 2, 2]              \n",
            "  1                -1  1     18560  models.common.Conv                      [32, 64, 3, 2]                \n",
            "  2                -1  1     18816  models.common.C3                        [64, 64, 1]                   \n",
            "  3                -1  1     73984  models.common.Conv                      [64, 128, 3, 2]               \n",
            "  4                -1  2    115712  models.common.C3                        [128, 128, 2]                 \n",
            "  5                -1  1    295424  models.common.Conv                      [128, 256, 3, 2]              \n",
            "  6                -1  3    625152  models.common.C3                        [256, 256, 3]                 \n",
            "  7                -1  1   1180672  models.common.Conv                      [256, 512, 3, 2]              \n",
            "  8                -1  1   1182720  models.common.C3                        [512, 512, 1]                 \n",
            "  9                -1  1    656896  models.common.SPPF                      [512, 512, 5]                 \n",
            " 10                -1  1    131584  models.common.Conv                      [512, 256, 1, 1]              \n",
            " 11                -1  1         0  torch.nn.modules.upsampling.Upsample    [None, 2, 'nearest']          \n",
            " 12           [-1, 6]  1         0  models.common.Concat                    [1]                           \n",
            " 13                -1  1    361984  models.common.C3                        [512, 256, 1, False]          \n",
            " 14                -1  1     33024  models.common.Conv                      [256, 128, 1, 1]              \n",
            " 15                -1  1         0  torch.nn.modules.upsampling.Upsample    [None, 2, 'nearest']          \n",
            " 16           [-1, 4]  1         0  models.common.Concat                    [1]                           \n",
            " 17                -1  1     90880  models.common.C3                        [256, 128, 1, False]          \n",
            " 18                -1  1    147712  models.common.Conv                      [128, 128, 3, 2]              \n",
            " 19          [-1, 14]  1         0  models.common.Concat                    [1]                           \n",
            " 20                -1  1    296448  models.common.C3                        [256, 256, 1, False]          \n",
            " 21                -1  1    590336  models.common.Conv                      [256, 256, 3, 2]              \n",
            " 22          [-1, 10]  1         0  models.common.Concat                    [1]                           \n",
            " 23                -1  1   1182720  models.common.C3                        [512, 512, 1, False]          \n",
            " 24      [17, 20, 23]  1     45849  models.yolo.Detect                      [12, [[10, 13, 16, 30, 33, 23], [30, 61, 62, 45, 59, 119], [116, 90, 156, 198, 373, 326]], [128, 256, 512]]\n",
            "Model summary: 214 layers, 7051993 parameters, 7051993 gradients, 16.0 GFLOPs\n",
            "\n",
            "Transferred 343/349 items from yolov5s.pt\n",
            "\u001b[34m\u001b[1mAMP: \u001b[0mchecks passed ✅\n",
            "\u001b[34m\u001b[1moptimizer:\u001b[0m SGD(lr=0.01) with parameter groups 57 weight(decay=0.0), 60 weight(decay=0.0005), 60 bias\n",
            "\u001b[34m\u001b[1malbumentations: \u001b[0mBlur(p=0.01, blur_limit=(3, 7)), MedianBlur(p=0.01, blur_limit=(3, 7)), ToGray(p=0.01), CLAHE(p=0.01, clip_limit=(1, 4.0), tile_grid_size=(8, 8))\n",
            "\u001b[34m\u001b[1mtrain: \u001b[0mScanning /content/data/labels... 1200 images, 0 backgrounds, 0 corrupt: 100% 1200/1200 [00:00<00:00, 1905.81it/s]\n",
            "\u001b[34m\u001b[1mtrain: \u001b[0mNew cache created: /content/data/labels.cache\n",
            "\u001b[34m\u001b[1mval: \u001b[0mScanning /content/data/labels.cache... 1200 images, 0 backgrounds, 0 corrupt: 100% 1200/1200 [00:00<?, ?it/s]\n",
            "\n",
            "\u001b[34m\u001b[1mAutoAnchor: \u001b[0m5.93 anchors/target, 1.000 Best Possible Recall (BPR). Current anchors are a good fit to dataset ✅\n",
            "Plotting labels to runs/train/exp/labels.jpg... \n",
            "Image sizes 320 train, 320 val\n",
            "Using 2 dataloader workers\n",
            "Logging results to \u001b[1mruns/train/exp\u001b[0m\n",
            "Starting training for 50 epochs...\n",
            "\n",
            "      Epoch    GPU_mem   box_loss   obj_loss   cls_loss  Instances       Size\n",
            "       0/49      1.07G    0.09272    0.02037    0.06787         34        320: 100% 75/75 [00:30<00:00,  2.44it/s]\n",
            "                 Class     Images  Instances          P          R      mAP50   mAP50-95: 100% 38/38 [00:13<00:00,  2.86it/s]\n",
            "                   all       1200       1200     0.0277      0.577     0.0517     0.0142\n",
            "\n",
            "      Epoch    GPU_mem   box_loss   obj_loss   cls_loss  Instances       Size\n",
            "       1/49      1.07G    0.05853    0.01863    0.06335         37        320: 100% 75/75 [00:27<00:00,  2.77it/s]\n",
            "                 Class     Images  Instances          P          R      mAP50   mAP50-95: 100% 38/38 [00:12<00:00,  3.07it/s]\n",
            "                   all       1200       1200      0.112      0.169      0.175     0.0551\n",
            "\n",
            "      Epoch    GPU_mem   box_loss   obj_loss   cls_loss  Instances       Size\n",
            "       2/49      1.07G    0.05425    0.01491    0.06135         27        320: 100% 75/75 [00:29<00:00,  2.53it/s]\n",
            "                 Class     Images  Instances          P          R      mAP50   mAP50-95: 100% 38/38 [00:12<00:00,  3.10it/s]\n",
            "                   all       1200       1200      0.248      0.356      0.306      0.141\n",
            "\n",
            "      Epoch    GPU_mem   box_loss   obj_loss   cls_loss  Instances       Size\n",
            "       3/49      1.07G    0.04792    0.01286    0.05879         26        320: 100% 75/75 [00:24<00:00,  3.08it/s]\n",
            "                 Class     Images  Instances          P          R      mAP50   mAP50-95: 100% 38/38 [00:12<00:00,  2.99it/s]\n",
            "                   all       1200       1200      0.376      0.559      0.449      0.259\n",
            "\n",
            "      Epoch    GPU_mem   box_loss   obj_loss   cls_loss  Instances       Size\n",
            "       4/49      1.07G    0.04396    0.01127    0.05472         26        320: 100% 75/75 [00:27<00:00,  2.77it/s]\n",
            "                 Class     Images  Instances          P          R      mAP50   mAP50-95: 100% 38/38 [00:11<00:00,  3.20it/s]\n",
            "                   all       1200       1200      0.476      0.519      0.434      0.217\n",
            "\n",
            "      Epoch    GPU_mem   box_loss   obj_loss   cls_loss  Instances       Size\n",
            "       5/49      1.07G    0.03946    0.01055     0.0505         37        320: 100% 75/75 [00:29<00:00,  2.55it/s]\n",
            "                 Class     Images  Instances          P          R      mAP50   mAP50-95: 100% 38/38 [00:10<00:00,  3.58it/s]\n",
            "                   all       1200       1200      0.464      0.739      0.478      0.268\n",
            "\n",
            "      Epoch    GPU_mem   box_loss   obj_loss   cls_loss  Instances       Size\n",
            "       6/49      1.07G    0.03864    0.01009    0.04586         29        320: 100% 75/75 [00:26<00:00,  2.87it/s]\n",
            "                 Class     Images  Instances          P          R      mAP50   mAP50-95: 100% 38/38 [00:12<00:00,  3.16it/s]\n",
            "                   all       1200       1200      0.442      0.781      0.601      0.347\n",
            "\n",
            "      Epoch    GPU_mem   box_loss   obj_loss   cls_loss  Instances       Size\n",
            "       7/49      1.07G    0.03748   0.009544    0.04117         38        320: 100% 75/75 [00:26<00:00,  2.82it/s]\n",
            "                 Class     Images  Instances          P          R      mAP50   mAP50-95: 100% 38/38 [00:11<00:00,  3.37it/s]\n",
            "                   all       1200       1200      0.563      0.863      0.737      0.453\n",
            "\n",
            "      Epoch    GPU_mem   box_loss   obj_loss   cls_loss  Instances       Size\n",
            "       8/49      1.07G    0.03595   0.009536    0.03745         25        320: 100% 75/75 [00:25<00:00,  2.96it/s]\n",
            "                 Class     Images  Instances          P          R      mAP50   mAP50-95: 100% 38/38 [00:12<00:00,  3.00it/s]\n",
            "                   all       1200       1200      0.614      0.888      0.806      0.447\n",
            "\n",
            "      Epoch    GPU_mem   box_loss   obj_loss   cls_loss  Instances       Size\n",
            "       9/49      1.07G    0.03561   0.009571     0.0329         35        320: 100% 75/75 [00:27<00:00,  2.70it/s]\n",
            "                 Class     Images  Instances          P          R      mAP50   mAP50-95: 100% 38/38 [00:12<00:00,  3.09it/s]\n",
            "                   all       1200       1200      0.771      0.866      0.901      0.489\n",
            "\n",
            "      Epoch    GPU_mem   box_loss   obj_loss   cls_loss  Instances       Size\n",
            "      10/49      1.07G    0.03409   0.009332    0.02919         27        320: 100% 75/75 [00:26<00:00,  2.86it/s]\n",
            "                 Class     Images  Instances          P          R      mAP50   mAP50-95: 100% 38/38 [00:10<00:00,  3.59it/s]\n",
            "                   all       1200       1200      0.789      0.886      0.945      0.608\n",
            "\n",
            "      Epoch    GPU_mem   box_loss   obj_loss   cls_loss  Instances       Size\n",
            "      11/49      1.07G    0.03428   0.009632    0.02576         43        320: 100% 75/75 [00:26<00:00,  2.80it/s]\n",
            "                 Class     Images  Instances          P          R      mAP50   mAP50-95: 100% 38/38 [00:11<00:00,  3.17it/s]\n",
            "                   all       1200       1200      0.839      0.906      0.942      0.586\n",
            "\n",
            "      Epoch    GPU_mem   box_loss   obj_loss   cls_loss  Instances       Size\n",
            "      12/49      1.07G    0.03422   0.009355    0.02249         30        320: 100% 75/75 [00:29<00:00,  2.54it/s]\n",
            "                 Class     Images  Instances          P          R      mAP50   mAP50-95: 100% 38/38 [00:11<00:00,  3.18it/s]\n",
            "                   all       1200       1200      0.824      0.975      0.972      0.618\n",
            "\n",
            "      Epoch    GPU_mem   box_loss   obj_loss   cls_loss  Instances       Size\n",
            "      13/49      1.07G    0.03278   0.009018    0.02006         32        320: 100% 75/75 [00:24<00:00,  3.12it/s]\n",
            "                 Class     Images  Instances          P          R      mAP50   mAP50-95: 100% 38/38 [00:12<00:00,  3.10it/s]\n",
            "                   all       1200       1200      0.893      0.966      0.978      0.539\n",
            "\n",
            "      Epoch    GPU_mem   box_loss   obj_loss   cls_loss  Instances       Size\n",
            "      14/49      1.07G    0.03329   0.009325    0.01865         34        320: 100% 75/75 [00:26<00:00,  2.80it/s]\n",
            "                 Class     Images  Instances          P          R      mAP50   mAP50-95: 100% 38/38 [00:11<00:00,  3.20it/s]\n",
            "                   all       1200       1200      0.903      0.976      0.984      0.626\n",
            "\n",
            "      Epoch    GPU_mem   box_loss   obj_loss   cls_loss  Instances       Size\n",
            "      15/49      1.07G    0.03241   0.009046    0.01762         39        320: 100% 75/75 [00:24<00:00,  3.09it/s]\n",
            "                 Class     Images  Instances          P          R      mAP50   mAP50-95: 100% 38/38 [00:12<00:00,  3.08it/s]\n",
            "                   all       1200       1200      0.939      0.971      0.983       0.66\n",
            "\n",
            "      Epoch    GPU_mem   box_loss   obj_loss   cls_loss  Instances       Size\n",
            "      16/49      1.07G    0.03201   0.009094    0.01581         28        320: 100% 75/75 [00:29<00:00,  2.52it/s]\n",
            "                 Class     Images  Instances          P          R      mAP50   mAP50-95: 100% 38/38 [00:12<00:00,  3.12it/s]\n",
            "                   all       1200       1200      0.925      0.979      0.984      0.666\n",
            "\n",
            "      Epoch    GPU_mem   box_loss   obj_loss   cls_loss  Instances       Size\n",
            "      17/49      1.07G    0.03036   0.008805    0.01469         28        320: 100% 75/75 [00:25<00:00,  2.97it/s]\n",
            "                 Class     Images  Instances          P          R      mAP50   mAP50-95: 100% 38/38 [00:11<00:00,  3.29it/s]\n",
            "                   all       1200       1200      0.988      0.988      0.994      0.653\n",
            "\n",
            "      Epoch    GPU_mem   box_loss   obj_loss   cls_loss  Instances       Size\n",
            "      18/49      1.07G    0.03117   0.008982    0.01396         32        320: 100% 75/75 [00:26<00:00,  2.80it/s]\n",
            "                 Class     Images  Instances          P          R      mAP50   mAP50-95: 100% 38/38 [00:12<00:00,  3.03it/s]\n",
            "                   all       1200       1200      0.985       0.99      0.994      0.645\n",
            "\n",
            "      Epoch    GPU_mem   box_loss   obj_loss   cls_loss  Instances       Size\n",
            "      19/49      1.07G    0.03013   0.008729    0.01281         29        320: 100% 75/75 [00:30<00:00,  2.50it/s]\n",
            "                 Class     Images  Instances          P          R      mAP50   mAP50-95: 100% 38/38 [00:11<00:00,  3.40it/s]\n",
            "                   all       1200       1200      0.976      0.981      0.989      0.645\n",
            "\n",
            "      Epoch    GPU_mem   box_loss   obj_loss   cls_loss  Instances       Size\n",
            "      20/49      1.07G     0.0297   0.008874    0.01305         28        320: 100% 75/75 [00:27<00:00,  2.70it/s]\n",
            "                 Class     Images  Instances          P          R      mAP50   mAP50-95: 100% 38/38 [00:12<00:00,  3.03it/s]\n",
            "                   all       1200       1200       0.99      0.988      0.993       0.67\n",
            "\n",
            "      Epoch    GPU_mem   box_loss   obj_loss   cls_loss  Instances       Size\n",
            "      21/49      1.07G    0.02925   0.008662    0.01202         32        320: 100% 75/75 [00:27<00:00,  2.77it/s]\n",
            "                 Class     Images  Instances          P          R      mAP50   mAP50-95: 100% 38/38 [00:12<00:00,  3.08it/s]\n",
            "                   all       1200       1200      0.966      0.994      0.992      0.655\n",
            "\n",
            "      Epoch    GPU_mem   box_loss   obj_loss   cls_loss  Instances       Size\n",
            "      22/49      1.07G    0.02927   0.008666    0.01153         23        320: 100% 75/75 [00:24<00:00,  3.01it/s]\n",
            "                 Class     Images  Instances          P          R      mAP50   mAP50-95: 100% 38/38 [00:12<00:00,  3.03it/s]\n",
            "                   all       1200       1200      0.987      0.979      0.994      0.679\n",
            "\n",
            "      Epoch    GPU_mem   box_loss   obj_loss   cls_loss  Instances       Size\n",
            "      23/49      1.07G    0.02859    0.00895    0.01049         35        320: 100% 75/75 [00:29<00:00,  2.53it/s]\n",
            "                 Class     Images  Instances          P          R      mAP50   mAP50-95: 100% 38/38 [00:12<00:00,  3.10it/s]\n",
            "                   all       1200       1200      0.976      0.991      0.987      0.662\n",
            "\n",
            "      Epoch    GPU_mem   box_loss   obj_loss   cls_loss  Instances       Size\n",
            "      24/49      1.07G    0.02816   0.008641   0.009651         29        320: 100% 75/75 [00:25<00:00,  2.94it/s]\n",
            "                 Class     Images  Instances          P          R      mAP50   mAP50-95: 100% 38/38 [00:11<00:00,  3.18it/s]\n",
            "                   all       1200       1200       0.99      0.997      0.994      0.634\n",
            "\n",
            "      Epoch    GPU_mem   box_loss   obj_loss   cls_loss  Instances       Size\n",
            "      25/49      1.07G    0.02804   0.008762   0.009445         37        320: 100% 75/75 [00:27<00:00,  2.76it/s]\n",
            "                 Class     Images  Instances          P          R      mAP50   mAP50-95: 100% 38/38 [00:12<00:00,  2.93it/s]\n",
            "                   all       1200       1200      0.988      0.996      0.995      0.683\n",
            "\n",
            "      Epoch    GPU_mem   box_loss   obj_loss   cls_loss  Instances       Size\n",
            "      26/49      1.07G    0.02763   0.008429   0.009412         32        320: 100% 75/75 [00:29<00:00,  2.55it/s]\n",
            "                 Class     Images  Instances          P          R      mAP50   mAP50-95: 100% 38/38 [00:11<00:00,  3.30it/s]\n",
            "                   all       1200       1200      0.977      0.995      0.994      0.701\n",
            "\n",
            "      Epoch    GPU_mem   box_loss   obj_loss   cls_loss  Instances       Size\n",
            "      27/49      1.07G     0.0275   0.008355   0.009055         35        320: 100% 75/75 [00:25<00:00,  2.90it/s]\n",
            "                 Class     Images  Instances          P          R      mAP50   mAP50-95: 100% 38/38 [00:11<00:00,  3.21it/s]\n",
            "                   all       1200       1200      0.996      0.994      0.994      0.695\n",
            "\n",
            "      Epoch    GPU_mem   box_loss   obj_loss   cls_loss  Instances       Size\n",
            "      28/49      1.07G    0.02662    0.00824   0.008824         27        320: 100% 75/75 [00:26<00:00,  2.79it/s]\n",
            "                 Class     Images  Instances          P          R      mAP50   mAP50-95: 100% 38/38 [00:10<00:00,  3.68it/s]\n",
            "                   all       1200       1200      0.997      0.997      0.995      0.692\n",
            "\n",
            "      Epoch    GPU_mem   box_loss   obj_loss   cls_loss  Instances       Size\n",
            "      29/49      1.07G     0.0265   0.008486   0.008669         33        320: 100% 75/75 [00:25<00:00,  2.92it/s]\n",
            "                 Class     Images  Instances          P          R      mAP50   mAP50-95: 100% 38/38 [00:12<00:00,  3.12it/s]\n",
            "                   all       1200       1200      0.992      0.995      0.994      0.694\n",
            "\n",
            "      Epoch    GPU_mem   box_loss   obj_loss   cls_loss  Instances       Size\n",
            "      30/49      1.07G     0.0262   0.008349   0.008263         34        320: 100% 75/75 [00:29<00:00,  2.55it/s]\n",
            "                 Class     Images  Instances          P          R      mAP50   mAP50-95: 100% 38/38 [00:12<00:00,  3.14it/s]\n",
            "                   all       1200       1200      0.998      0.999      0.994      0.699\n",
            "\n",
            "      Epoch    GPU_mem   box_loss   obj_loss   cls_loss  Instances       Size\n",
            "      31/49      1.07G      0.026   0.007976   0.007403         35        320: 100% 75/75 [00:25<00:00,  2.90it/s]\n",
            "                 Class     Images  Instances          P          R      mAP50   mAP50-95: 100% 38/38 [00:10<00:00,  3.54it/s]\n",
            "                   all       1200       1200      0.997      0.997      0.995      0.718\n",
            "\n",
            "      Epoch    GPU_mem   box_loss   obj_loss   cls_loss  Instances       Size\n",
            "      32/49      1.07G    0.02531   0.008026   0.007216         29        320: 100% 75/75 [00:27<00:00,  2.73it/s]\n",
            "                 Class     Images  Instances          P          R      mAP50   mAP50-95: 100% 38/38 [00:12<00:00,  3.14it/s]\n",
            "                   all       1200       1200      0.996      0.991      0.995      0.703\n",
            "\n",
            "      Epoch    GPU_mem   box_loss   obj_loss   cls_loss  Instances       Size\n",
            "      33/49      1.07G    0.02501   0.008205   0.007083         33        320: 100% 75/75 [00:26<00:00,  2.86it/s]\n",
            "                 Class     Images  Instances          P          R      mAP50   mAP50-95: 100% 38/38 [00:13<00:00,  2.86it/s]\n",
            "                   all       1200       1200      0.997      0.997      0.995      0.711\n",
            "\n",
            "      Epoch    GPU_mem   box_loss   obj_loss   cls_loss  Instances       Size\n",
            "      34/49      1.07G    0.02478   0.007842   0.007797         27        320: 100% 75/75 [00:25<00:00,  2.92it/s]\n",
            "                 Class     Images  Instances          P          R      mAP50   mAP50-95: 100% 38/38 [00:12<00:00,  3.11it/s]\n",
            "                   all       1200       1200      0.996      0.996      0.995        0.7\n",
            "\n",
            "      Epoch    GPU_mem   box_loss   obj_loss   cls_loss  Instances       Size\n",
            "      35/49      1.07G    0.02493   0.007986   0.006717         28        320: 100% 75/75 [00:27<00:00,  2.74it/s]\n",
            "                 Class     Images  Instances          P          R      mAP50   mAP50-95: 100% 38/38 [00:12<00:00,  3.16it/s]\n",
            "                   all       1200       1200      0.998      0.999      0.995      0.713\n",
            "\n",
            "      Epoch    GPU_mem   box_loss   obj_loss   cls_loss  Instances       Size\n",
            "      36/49      1.07G    0.02417   0.007986    0.00662         31        320: 100% 75/75 [00:25<00:00,  2.97it/s]\n",
            "                 Class     Images  Instances          P          R      mAP50   mAP50-95: 100% 38/38 [00:11<00:00,  3.20it/s]\n",
            "                   all       1200       1200      0.995      0.997      0.995       0.73\n",
            "\n",
            "      Epoch    GPU_mem   box_loss   obj_loss   cls_loss  Instances       Size\n",
            "      37/49      1.07G    0.02409   0.008173   0.006381         31        320: 100% 75/75 [00:30<00:00,  2.49it/s]\n",
            "                 Class     Images  Instances          P          R      mAP50   mAP50-95: 100% 38/38 [00:12<00:00,  3.07it/s]\n",
            "                   all       1200       1200      0.997      0.999      0.995      0.739\n",
            "\n",
            "      Epoch    GPU_mem   box_loss   obj_loss   cls_loss  Instances       Size\n",
            "      38/49      1.07G     0.0237   0.007759   0.006005         32        320: 100% 75/75 [00:26<00:00,  2.86it/s]\n",
            "                 Class     Images  Instances          P          R      mAP50   mAP50-95: 100% 38/38 [00:11<00:00,  3.27it/s]\n",
            "                   all       1200       1200      0.996      0.998      0.995      0.734\n",
            "\n",
            "      Epoch    GPU_mem   box_loss   obj_loss   cls_loss  Instances       Size\n",
            "      39/49      1.07G    0.02316    0.00782   0.006412         29        320: 100% 75/75 [00:27<00:00,  2.72it/s]\n",
            "                 Class     Images  Instances          P          R      mAP50   mAP50-95: 100% 38/38 [00:12<00:00,  3.05it/s]\n",
            "                   all       1200       1200      0.998      0.999      0.995      0.738\n",
            "\n",
            "      Epoch    GPU_mem   box_loss   obj_loss   cls_loss  Instances       Size\n",
            "      40/49      1.07G    0.02309     0.0078   0.006007         26        320: 100% 75/75 [00:27<00:00,  2.74it/s]\n",
            "                 Class     Images  Instances          P          R      mAP50   mAP50-95: 100% 38/38 [00:10<00:00,  3.69it/s]\n",
            "                   all       1200       1200      0.996      0.996      0.995      0.736\n",
            "\n",
            "      Epoch    GPU_mem   box_loss   obj_loss   cls_loss  Instances       Size\n",
            "      41/49      1.07G    0.02261   0.007946   0.005375         26        320: 100% 75/75 [00:28<00:00,  2.62it/s]\n",
            "                 Class     Images  Instances          P          R      mAP50   mAP50-95: 100% 38/38 [00:12<00:00,  3.08it/s]\n",
            "                   all       1200       1200      0.997      0.999      0.995      0.739\n",
            "\n",
            "      Epoch    GPU_mem   box_loss   obj_loss   cls_loss  Instances       Size\n",
            "      42/49      1.07G     0.0228   0.007833   0.005295         34        320: 100% 75/75 [00:27<00:00,  2.77it/s]\n",
            "                 Class     Images  Instances          P          R      mAP50   mAP50-95: 100% 38/38 [00:12<00:00,  3.02it/s]\n",
            "                   all       1200       1200      0.998      0.999      0.995      0.748\n",
            "\n",
            "      Epoch    GPU_mem   box_loss   obj_loss   cls_loss  Instances       Size\n",
            "      43/49      1.07G     0.0224   0.007771   0.005086         28        320: 100% 75/75 [00:25<00:00,  2.93it/s]\n",
            "                 Class     Images  Instances          P          R      mAP50   mAP50-95: 100% 38/38 [00:11<00:00,  3.36it/s]\n",
            "                   all       1200       1200      0.997      0.999      0.995      0.751\n",
            "\n",
            "      Epoch    GPU_mem   box_loss   obj_loss   cls_loss  Instances       Size\n",
            "      44/49      1.07G    0.02244   0.007947    0.00523         34        320: 100% 75/75 [00:27<00:00,  2.72it/s]\n",
            "                 Class     Images  Instances          P          R      mAP50   mAP50-95: 100% 38/38 [00:14<00:00,  2.69it/s]\n",
            "                   all       1200       1200      0.998      0.999      0.995      0.749\n",
            "\n",
            "      Epoch    GPU_mem   box_loss   obj_loss   cls_loss  Instances       Size\n",
            "      45/49      1.07G    0.02173   0.007796   0.005059         29        320: 100% 75/75 [00:26<00:00,  2.80it/s]\n",
            "                 Class     Images  Instances          P          R      mAP50   mAP50-95: 100% 38/38 [00:12<00:00,  3.00it/s]\n",
            "                   all       1200       1200      0.998      0.999      0.995      0.746\n",
            "\n",
            "      Epoch    GPU_mem   box_loss   obj_loss   cls_loss  Instances       Size\n",
            "      46/49      1.07G    0.02131   0.007731   0.004351         26        320: 100% 75/75 [00:24<00:00,  3.04it/s]\n",
            "                 Class     Images  Instances          P          R      mAP50   mAP50-95: 100% 38/38 [00:12<00:00,  3.13it/s]\n",
            "                   all       1200       1200      0.998      0.999      0.995      0.752\n",
            "\n",
            "      Epoch    GPU_mem   box_loss   obj_loss   cls_loss  Instances       Size\n",
            "      47/49      1.07G    0.02119   0.007506   0.004499         24        320: 100% 75/75 [00:26<00:00,  2.81it/s]\n",
            "                 Class     Images  Instances          P          R      mAP50   mAP50-95: 100% 38/38 [00:12<00:00,  3.11it/s]\n",
            "                   all       1200       1200      0.998      0.999      0.995      0.755\n",
            "\n",
            "      Epoch    GPU_mem   box_loss   obj_loss   cls_loss  Instances       Size\n",
            "      48/49      1.07G    0.02108   0.007689   0.004124         32        320: 100% 75/75 [00:27<00:00,  2.76it/s]\n",
            "                 Class     Images  Instances          P          R      mAP50   mAP50-95: 100% 38/38 [00:12<00:00,  3.00it/s]\n",
            "                   all       1200       1200      0.998      0.999      0.995      0.756\n",
            "\n",
            "      Epoch    GPU_mem   box_loss   obj_loss   cls_loss  Instances       Size\n",
            "      49/49      1.07G    0.02065    0.00753   0.004688         34        320: 100% 75/75 [00:27<00:00,  2.75it/s]\n",
            "                 Class     Images  Instances          P          R      mAP50   mAP50-95: 100% 38/38 [00:12<00:00,  3.08it/s]\n",
            "                   all       1200       1200      0.998      0.999      0.995      0.763\n",
            "\n",
            "50 epochs completed in 0.552 hours.\n",
            "Optimizer stripped from runs/train/exp/weights/last.pt, 14.3MB\n",
            "Optimizer stripped from runs/train/exp/weights/best.pt, 14.3MB\n",
            "\n",
            "Validating runs/train/exp/weights/best.pt...\n",
            "Fusing layers... \n",
            "Model summary: 157 layers, 7042489 parameters, 0 gradients, 15.9 GFLOPs\n",
            "                 Class     Images  Instances          P          R      mAP50   mAP50-95: 100% 38/38 [00:13<00:00,  2.74it/s]\n",
            "                   all       1200       1200      0.998      0.999      0.995      0.763\n",
            "                    L0       1200        101          1       0.99      0.995      0.695\n",
            "                    L1       1200        100      0.999          1      0.995      0.739\n",
            "                    L2       1200        100      0.999          1      0.995       0.74\n",
            "                    L3       1200        100      0.999          1      0.995      0.777\n",
            "                    L4       1200        100      0.999          1      0.995      0.744\n",
            "                    L5       1200        100      0.999          1      0.995      0.803\n",
            "                    R0       1200         99      0.989          1      0.992      0.723\n",
            "                    R1       1200        100      0.999          1      0.995      0.759\n",
            "                    R2       1200        100      0.998          1      0.995      0.817\n",
            "                    R3       1200        109      0.999          1      0.995      0.777\n",
            "                    R4       1200        191      0.999          1      0.995      0.817\n",
            "Results saved to \u001b[1mruns/train/exp\u001b[0m\n"
          ]
        }
      ]
    },
    {
      "cell_type": "code",
      "source": [
        "model = torch.hub.load('ultralytics/yolov5', 'custom', path='/content/yolov5/runs/train/exp/weights/best.pt', force_reload=True)"
      ],
      "metadata": {
        "colab": {
          "base_uri": "https://localhost:8080/"
        },
        "id": "HzmsunedCeyI",
        "outputId": "f14efd1c-f664-4f97-d7d2-ac1a9c3007e4"
      },
      "execution_count": 16,
      "outputs": [
        {
          "output_type": "stream",
          "name": "stderr",
          "text": [
            "Downloading: \"https://github.com/ultralytics/yolov5/zipball/master\" to /root/.cache/torch/hub/master.zip\n",
            "YOLOv5 🚀 2023-10-7 Python-3.10.12 torch-2.0.1+cu118 CUDA:0 (Tesla T4, 15102MiB)\n",
            "\n",
            "Fusing layers... \n",
            "Model summary: 157 layers, 7042489 parameters, 0 gradients, 15.9 GFLOPs\n",
            "Adding AutoShape... \n"
          ]
        }
      ]
    },
    {
      "cell_type": "code",
      "source": [
        "import os\n",
        "# img = os.path.join('data', 'images', 'L2.3019ade4-558e-11ee-a9cf-3003c80a99fd.jpg')\n",
        "img='/content/data/images/R1.92c63dbe-558d-11ee-a9cf-3003c80a99fd.jpg'\n",
        "result=model(img)\n",
        "result.print()"
      ],
      "metadata": {
        "colab": {
          "base_uri": "https://localhost:8080/"
        },
        "id": "MDH7h6tQTd3t",
        "outputId": "6264ca3c-db2a-438d-8e22-d73377e4f68a"
      },
      "execution_count": 28,
      "outputs": [
        {
          "output_type": "stream",
          "name": "stderr",
          "text": [
            "image 1/1: 480x640 1 R1\n",
            "Speed: 6.5ms pre-process, 9.2ms inference, 3.0ms NMS per image at shape (1, 3, 480, 640)\n"
          ]
        }
      ]
    },
    {
      "cell_type": "code",
      "source": [
        "torch.save(model, '/content/yolov5/runs/train/exp/weights/best.pt')"
      ],
      "metadata": {
        "id": "E2CHF-VYJ-le"
      },
      "execution_count": 27,
      "outputs": []
    },
    {
      "cell_type": "code",
      "source": [
        "from google.colab import drive\n",
        "drive.mount('/content/drive')"
      ],
      "metadata": {
        "colab": {
          "base_uri": "https://localhost:8080/"
        },
        "id": "Bz7Z04_qLdmn",
        "outputId": "950f2f69-7f0e-45aa-a562-cb3d7c395a84"
      },
      "execution_count": 30,
      "outputs": [
        {
          "output_type": "stream",
          "name": "stdout",
          "text": [
            "Drive already mounted at /content/drive; to attempt to forcibly remount, call drive.mount(\"/content/drive\", force_remount=True).\n"
          ]
        }
      ]
    },
    {
      "cell_type": "code",
      "source": [
        "%cp /content/yolov5/runs/train/exp/weights/best.pt /content/drive/MyDrive/yoloModel"
      ],
      "metadata": {
        "id": "jNBUNjF0Cl8L"
      },
      "execution_count": 32,
      "outputs": []
    },
    {
      "cell_type": "code",
      "source": [],
      "metadata": {
        "id": "Pi0pSsa6fudc"
      },
      "execution_count": null,
      "outputs": []
    }
  ]
}